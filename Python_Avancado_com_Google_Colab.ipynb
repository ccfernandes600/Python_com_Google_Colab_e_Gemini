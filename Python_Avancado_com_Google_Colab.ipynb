{
  "nbformat": 4,
  "nbformat_minor": 0,
  "metadata": {
    "colab": {
      "provenance": [],
      "include_colab_link": true
    },
    "kernelspec": {
      "name": "python3",
      "display_name": "Python 3"
    },
    "language_info": {
      "name": "python"
    }
  },
  "cells": [
    {
      "cell_type": "markdown",
      "metadata": {
        "id": "view-in-github",
        "colab_type": "text"
      },
      "source": [
        "<a href=\"https://colab.research.google.com/github/ccfernandes600/Python_com_Google_Colab_e_Gemini/blob/main/Python_Avancado_com_Google_Colab.ipynb\" target=\"_parent\"><img src=\"https://colab.research.google.com/assets/colab-badge.svg\" alt=\"Open In Colab\"/></a>"
      ]
    },
    {
      "cell_type": "markdown",
      "source": [
        "# EM CONSTRUÇÃO (PARTE  2)\n",
        "\n",
        "# Tutorial Avançado de Python: Desvendando o Poder da Linguagem\n",
        "\n",
        "## Capítulo 1: Python Além do Básico: Recursos Poderosos para Programadores Experientes\n",
        "\n",
        "**No Capítulo exploraremos os seguintes assuntos:**\n",
        "\n",
        "* **Compreensões de Lista, Tupla e Dicionário**: Descubra como criar listas, tuplas e dicionários de forma concisa e elegante, dominando a arte da sintaxe compacta e eficiente.\n",
        "* Iteradores e Geradores **negrito**: Mergulhe no mundo dos iteradores e geradores, aprendendo a trabalhar com sequências de dados de forma otimizada e a criar suas próprias estruturas iteráveis.\n",
        "* **Expressões Lambda**: Domine as funções lambda, ferramentas poderosas para criar funções anônimas e simplificar seu código em diversas situações.\n",
        "* **Decoradores**: Explore o mundo dos decoradores, aprendendo como modificar o comportamento de funções e classes de forma elegante e reutilizável."
      ],
      "metadata": {
        "id": "M4YEwOxYoWWq"
      }
    },
    {
      "cell_type": "markdown",
      "source": [
        "###**Compreensões de Lista, Tupla e Dicionário: A Arte da Concisão**\n",
        "\n",
        "As compreensões são uma forma elegante e eficiente de criar listas, tuplas e dicionários em Python. Elas permitem que você condense loops `for` complexos em uma única linha de código, tornando seu código mais legível e expressivo.\n",
        "\n",
        "#### **Exemplo de Compreensão de Lista:**"
      ],
      "metadata": {
        "id": "N8S43DQ6pQuR"
      }
    },
    {
      "cell_type": "code",
      "execution_count": null,
      "metadata": {
        "id": "sTpRSIzjkeU-",
        "colab": {
          "base_uri": "https://localhost:8080/"
        },
        "outputId": "2f3be7c6-90eb-4377-8ab1-f530d3340c7d"
      },
      "outputs": [
        {
          "output_type": "stream",
          "name": "stdout",
          "text": [
            "[1, 4, 9, 16, 25]\n"
          ]
        }
      ],
      "source": [
        "# Compreensão de Lista\n",
        "numeros = [x**2 for x in range(1, 6)]\n",
        "print(numeros)  # Saída: [1, 4, 9, 16, 25]"
      ]
    },
    {
      "cell_type": "markdown",
      "source": [
        "**Explicação**: Este código cria uma lista numeros contendo os quadrados dos números de 1 a 5. A parte `x**2` calcula o quadrado de cada elemento `x` gerado pelo `range(1, 6)`.\n",
        "\n",
        "\n",
        "#### **Exemplo de Compreensão de tupla:**\n"
      ],
      "metadata": {
        "id": "pQUPbxsiqqUa"
      }
    },
    {
      "cell_type": "code",
      "source": [
        "#  Compreensão de tupla\n",
        "pares = tuple(x for x in range(2, 11, 2))\n",
        "print(pares)  # Saída: (2, 4, 6, 8, 10)"
      ],
      "metadata": {
        "colab": {
          "base_uri": "https://localhost:8080/"
        },
        "id": "MG1Bs2T5rOk-",
        "outputId": "f8bda588-2da8-4e18-9308-7935bed109c3"
      },
      "execution_count": null,
      "outputs": [
        {
          "output_type": "stream",
          "name": "stdout",
          "text": [
            "(2, 4, 6, 8, 10)\n"
          ]
        }
      ]
    },
    {
      "cell_type": "markdown",
      "source": [
        "**Explicação**: Similar à compreensão de lista, mas cria uma tupla imutável de números pares.\n",
        "\n",
        "\n",
        "#### **Exemplo de Compreensão de dicionário:**"
      ],
      "metadata": {
        "id": "ET9VVcIIrbu2"
      }
    },
    {
      "cell_type": "code",
      "source": [
        "# Compreensão de dicionário\n",
        "quadrados = {x: x**2 for x in range(1, 6)}\n",
        "print(quadrados)  # Saída: {1: 1, 2: 4, 3: 9, 4: 16, 5: 25}"
      ],
      "metadata": {
        "id": "JkIBgvEUrXYl"
      },
      "execution_count": null,
      "outputs": []
    },
    {
      "cell_type": "markdown",
      "source": [
        "**Explicação**: Cria um dicionário onde as chaves são os números de 1 a 5 e os valores são seus respectivos quadrados.\n",
        "\n",
        "####**Exemplo de Compreensões com filtros (condicionais):**\n"
      ],
      "metadata": {
        "id": "WJIAtsDLrxaX"
      }
    },
    {
      "cell_type": "code",
      "source": [
        "pares = [x for x in range(1, 11) if x % 2 == 0]\n",
        "print(pares)  # Saída: [2, 4, 6, 8, 10]"
      ],
      "metadata": {
        "colab": {
          "base_uri": "https://localhost:8080/"
        },
        "id": "Zq-idfsZr858",
        "outputId": "99a0574c-cea5-409c-dabd-6e949839b740"
      },
      "execution_count": null,
      "outputs": [
        {
          "output_type": "stream",
          "name": "stdout",
          "text": [
            "[2, 4, 6, 8, 10]\n"
          ]
        }
      ]
    },
    {
      "cell_type": "markdown",
      "source": [
        "**Explicação**: A condição `if x % 2 == 0` filtra apenas os números pares.\n",
        "\n",
        "###**Iteradores e Geradores: Eficiência na Manipulação de Sequências**\n",
        "\n",
        "Iteradores e geradores são ferramentas poderosas para trabalhar com sequências de dados de forma eficiente.\n",
        "\n",
        "####**Exemplo de Iteradores:**\n",
        "\n"
      ],
      "metadata": {
        "id": "-ahWBy_wsDN5"
      }
    },
    {
      "cell_type": "code",
      "source": [
        "numeros = [1, 2, 3]\n",
        "iterador = iter(numeros)\n",
        "print(next(iterador))  # Saída: 1\n",
        "print(next(iterador))  # Saída: 2\n",
        "print(next(iterador))  # Saída: 3"
      ],
      "metadata": {
        "colab": {
          "base_uri": "https://localhost:8080/"
        },
        "id": "Q3GmGk8fsbmB",
        "outputId": "91c8c224-8782-46f3-9b3f-d108ecc92aa9"
      },
      "execution_count": null,
      "outputs": [
        {
          "output_type": "stream",
          "name": "stdout",
          "text": [
            "1\n",
            "2\n",
            "3\n"
          ]
        }
      ]
    },
    {
      "cell_type": "markdown",
      "source": [
        "**Explicação**: Iteradores permitem percorrer elementos de uma sequência um de cada vez. A função `iter() `cria um iterador, e a função `next()` retorna o próximo elemento.\n",
        "\n",
        "####**Exemplo de Geradores:**"
      ],
      "metadata": {
        "id": "YZN0RmDksomz"
      }
    },
    {
      "cell_type": "code",
      "source": [
        "def numeros_pares(limite):\n",
        "    num = 0\n",
        "    while num < limite:\n",
        "        yield num\n",
        "        num += 2\n",
        "\n",
        "for num in numeros_pares(10):\n",
        "    print(num)  # Saída: 0 2 4 6 8"
      ],
      "metadata": {
        "colab": {
          "base_uri": "https://localhost:8080/"
        },
        "id": "2hx0GU3Ts-QT",
        "outputId": "2d777da9-a29a-4836-8899-8cd4a76f0528"
      },
      "execution_count": null,
      "outputs": [
        {
          "output_type": "stream",
          "name": "stdout",
          "text": [
            "0\n",
            "2\n",
            "4\n",
            "6\n",
            "8\n"
          ]
        }
      ]
    },
    {
      "cell_type": "markdown",
      "source": [
        "**Explicação**: Geradores são funções que usam a palavra-chave `yield` para retornar um valor e pausar a execução. Na próxima chamada, a execução continua de onde parou. Isso economiza memória, pois os valores são gerados sob demanda.\n",
        "\n",
        "\n",
        "####**Expressões Lambda: Funções Anônimas para Tarefas Rápidas**\n",
        "\n",
        "Expressões lambda são funções anônimas (sem nome) que podem ser definidas em uma única linha."
      ],
      "metadata": {
        "id": "9gxAPN0ItLvK"
      }
    },
    {
      "cell_type": "code",
      "source": [
        "dobro = lambda x: x * 2\n",
        "print(dobro(5))  # Saída: 10"
      ],
      "metadata": {
        "colab": {
          "base_uri": "https://localhost:8080/"
        },
        "id": "_m6QEjfVtyiJ",
        "outputId": "9d04a84b-c53a-4e3a-c414-a74f34e32fb1"
      },
      "execution_count": null,
      "outputs": [
        {
          "output_type": "stream",
          "name": "stdout",
          "text": [
            "10\n"
          ]
        }
      ]
    },
    {
      "cell_type": "markdown",
      "source": [
        "**Explicação**: A expressão lambda `lambda x: x * 2` define uma função que recebe um argumento x e retorna o dobro de `x`.\n",
        "\n",
        "\n",
        "####**Decoradores: Modificando o Comportamento de Funções**\n",
        "\n",
        "Decoradores são funções que modificam o comportamento de outras funções."
      ],
      "metadata": {
        "id": "UfQr_zpAt6wV"
      }
    },
    {
      "cell_type": "code",
      "source": [
        "def meu_decorador(func):\n",
        "    def wrapper():\n",
        "        print(\"Antes da função\")\n",
        "        func()\n",
        "        print(\"Depois da função\")\n",
        "    return wrapper\n",
        "\n",
        "@meu_decorador\n",
        "def diga_ola():\n",
        "    print(\"Olá!\")\n",
        "\n",
        "diga_ola()  # Saída: Antes da função\\nOlá!\\nDepois da função"
      ],
      "metadata": {
        "colab": {
          "base_uri": "https://localhost:8080/"
        },
        "id": "vmfegJ10uSyy",
        "outputId": "ce173c3d-8411-4e0a-c82b-e32d75618c49"
      },
      "execution_count": null,
      "outputs": [
        {
          "output_type": "stream",
          "name": "stdout",
          "text": [
            "Antes da função\n",
            "Olá!\n",
            "Depois da função\n"
          ]
        }
      ]
    },
    {
      "cell_type": "markdown",
      "source": [
        "**Explicação**: O decorador meu_decorador adiciona código antes e depois da função `diga_ola`. O símbolo `@` é um açúcar sintático para aplicar o decorador.\n",
        "\n",
        "**Desafio do Capítulo 1**:\n",
        "\n",
        "**Criando um Gerador de Senhas Fortes com Decoradores**\n",
        "\n",
        "Seu desafio é criar um gerador de senhas fortes que utilize os conceitos aprendidos neste capítulo:\n",
        "\n",
        "1. **Função geradora**: Crie uma função `gerar_senha(comprimento)` que gere uma senha aleatória com o comprimento especificado. A senha deve conter letras maiúsculas e minúsculas, números e símbolos.\n",
        "\n",
        "2. **Compreensão de lista**: Use uma compreensão de lista para combinar caracteres aleatórios de diferentes conjuntos (letras, números, símbolos).\n",
        "\n",
        "3. **Gerador**: Transforme a função `gerar_senha` em um gerador que produza senhas sob demanda, em vez de retornar uma lista completa de senhas.\n",
        "\n",
        "4. **Decorador**: Crie um decorador verificar_forca que verifique a força da senha gerada. A senha deve atender aos seguintes critérios:\n",
        "\n",
        "  * Pelo menos 8 caracteres.\n",
        "  * Pelo menos uma letra maiúscula.\n",
        "  * Pelo menos uma letra minúscula.\n",
        "  * Pelo menos um número.\n",
        "  * Pelo menos um símbolo.\n",
        "\n",
        "5. **Aplicação**: Use o gerador de senhas com o decorador para gerar e exibir senhas fortes.\n",
        "\n",
        "\n",
        "**Exemplo de uso:**\n",
        "\n",
        "```python\n",
        "for senha in gerar_senha(12):\n",
        "    print(senha)  # Exibe senhas fortes de 12 caracteres\n",
        "```\n",
        "\n",
        "**Dicas**:\n",
        "\n",
        "* Use o módulo `random` para gerar caracteres aleatórios.\n",
        "* Use o módulo `string` para acessar conjuntos de caracteres (letras, dígitos, pontuação).\n",
        "* Use expressões regulares (módulo `re`) no decorador para verificar a força da senha.\n",
        "\n",
        "Este desafio testará seus conhecimentos sobre funções, compreensões de lista, geradores e decoradores, além de exigir criatividade na implementação da lógica de geração e verificação de senhas.\n"
      ],
      "metadata": {
        "id": "3t-g5nV6ugof"
      }
    },
    {
      "cell_type": "markdown",
      "source": [
        "## Capítulo 2: Classes e Objetos: A Essência da Programação Orientada a Objetos em Python\n",
        "\n",
        "A Programação Orientada a Objetos (POO) é um paradigma poderoso que permite modelar o mundo real em seus programas. Em Python, as classes e objetos são os pilares da POO, fornecendo uma maneira estruturada de organizar dados e comportamentos relacionados.\n",
        "\n",
        "###**Classes: Modelos para Objetos**\n",
        "\n",
        "Uma classe é como um modelo ou um projeto para criar objetos. Ela define as características (atributos) e os comportamentos (métodos) que os objetos daquela classe terão."
      ],
      "metadata": {
        "id": "49fBQtSvxmgw"
      }
    },
    {
      "cell_type": "code",
      "source": [
        "class Cachorro:\n",
        "    \"\"\"Uma classe que representa um cachorro.\"\"\"\n",
        "\n",
        "    def __init__(self, nome, raça, idade):\n",
        "        \"\"\"Inicializa os atributos do cachorro.\"\"\"\n",
        "        self.nome = nome\n",
        "        self.raça = raça\n",
        "        self.idade = idade\n",
        "\n",
        "    def latir(self):\n",
        "        \"\"\"Faz o cachorro latir.\"\"\"\n",
        "        print(f\"{self.nome} está latindo!\")\n",
        "\n",
        "\n"
      ],
      "metadata": {
        "colab": {
          "base_uri": "https://localhost:8080/"
        },
        "id": "P9gjudohx0sO",
        "outputId": "eb85031a-dc54-462a-92f3-fb81e9599f0a"
      },
      "execution_count": null,
      "outputs": [
        {
          "output_type": "stream",
          "name": "stdout",
          "text": [
            "Apolo\n",
            "Pitbull\n",
            "1\n",
            "Apolo está latindo!\n"
          ]
        }
      ]
    },
    {
      "cell_type": "markdown",
      "source": [
        "**Explicação**:\n",
        "\n",
        "* A classe `Cachorro` define os atributos nome, raca e idade, que armazenam informações sobre o cachorro.\n",
        "* O método `__init__` é um construtor especial que é chamado quando um novo objeto da classe é criado. Ele inicializa os atributos do objeto com os valores fornecidos.\n",
        "* O método `latir` define um comportamento do cachorro: latir.\n",
        "\n",
        "\n",
        "####**Objetos: Instâncias de Classes**\n",
        "\n",
        "Um **objeto** é uma instância de uma classe. É como um \"exemplar\" real do modelo definido pela classe."
      ],
      "metadata": {
        "id": "UuMnjai_yhKT"
      }
    },
    {
      "cell_type": "code",
      "source": [
        "# Criar um objeto da classe Cachorro\n",
        "cachorro1 = Cachorro(\"Apolo\", \"Pitbull\", 1)\n",
        "\n",
        "# Chamar o método latir()\n",
        "cachorro1.latir()  # Saída: Rex está latindo!"
      ],
      "metadata": {
        "colab": {
          "base_uri": "https://localhost:8080/"
        },
        "id": "DCm39V2SzKzd",
        "outputId": "733beb47-36e1-4f37-dbb0-2e3e162460a8"
      },
      "execution_count": null,
      "outputs": [
        {
          "output_type": "stream",
          "name": "stdout",
          "text": [
            "Apolo está latindo!\n"
          ]
        }
      ]
    },
    {
      "cell_type": "markdown",
      "source": [
        "**Explicação**:\n",
        "\n",
        "* Criamos um objeto `cachorro1` da classe Cachorro, passando os valores \"Apolo\", \"Pitbull\" e 1 para o construtor.\n",
        "* O objeto `cachorro1` tem seus próprios atributos nome, raca e idade, que foram inicializados pelo construtor.\n",
        "* Chamamos o método `latir` do objeto `cachorro1`, que faz o cachorro latir.\n",
        "\n",
        "####**Atributos: Características dos Objetos**\n",
        "\n",
        "Atributos são variáveis que armazenam dados dentro de um objeto. Eles representam as características do objeto."
      ],
      "metadata": {
        "id": "myvOYu2izdSz"
      }
    },
    {
      "cell_type": "code",
      "source": [
        "# Acessar os atributos do cachorro\n",
        "print(cachorro1.nome)  # Saída: Rex\n",
        "print(cachorro1.raça)  # Saída: Golden Retriever\n",
        "print(cachorro1.idade)  # Saída: 3"
      ],
      "metadata": {
        "colab": {
          "base_uri": "https://localhost:8080/"
        },
        "id": "sgYt-ysU0Kz7",
        "outputId": "3265fd9a-843a-47ea-c322-548e05bab48c"
      },
      "execution_count": null,
      "outputs": [
        {
          "output_type": "stream",
          "name": "stdout",
          "text": [
            "Apolo\n",
            "Pitbull\n",
            "1\n"
          ]
        }
      ]
    },
    {
      "cell_type": "markdown",
      "source": [
        "**Explicação**:\n",
        "\n",
        "Acessamos os atributos do objeto `cachorro1` usando a notação de ponto (`.`).\n",
        "\n",
        "####**Métodos: Comportamentos dos Objetos**\n",
        "\n",
        "Métodos são funções definidas dentro de uma classe que operam sobre os atributos do objeto. Eles representam os comportamentos do objeto."
      ],
      "metadata": {
        "id": "yXtUPRan0OYR"
      }
    },
    {
      "cell_type": "code",
      "source": [
        "class Cachorro:\n",
        "    \"\"\"Uma classe que representa um cachorro.\"\"\"\n",
        "\n",
        "    def __init__(self, nome, raça, idade):\n",
        "        \"\"\"Inicializa os atributos do cachorro.\"\"\"\n",
        "        self.nome = nome\n",
        "        self.raça = raça\n",
        "        self.idade = idade\n",
        "\n",
        "    def latir(self):\n",
        "        \"\"\"Faz o cachorro latir.\"\"\"\n",
        "        print(f\"{self.nome} está latindo!\")\n",
        "\n",
        "    def fazer_aniversario(self):\n",
        "        \"\"\"Aumenta a idade do cachorro em 1 ano.\"\"\"\n",
        "        self.idade += 1\n",
        "\n",
        "cachorro1 = Cachorro(\"Apolo\", \"Pitbull\", 1)\n",
        "cachorro1.fazer_aniversario()\n",
        "print(f\"Meu cachorro {cachorro1.nome} fez {cachorro1.idade} Anos, Parabens!!\")  # Saída: 4"
      ],
      "metadata": {
        "colab": {
          "base_uri": "https://localhost:8080/"
        },
        "id": "BdFhVK2O0lzI",
        "outputId": "4819578b-260d-4b85-d73b-4464c60cf6dd"
      },
      "execution_count": null,
      "outputs": [
        {
          "output_type": "stream",
          "name": "stdout",
          "text": [
            "Meu cachorro Apolo fez 2 Anos, Parabens!!\n"
          ]
        }
      ]
    },
    {
      "cell_type": "markdown",
      "source": [
        "**Explicação**:\n",
        "\n",
        "O método `fazer_aniversario` modifica o atributo idade do objeto, simulando o aniversário do cachorro.\n",
        "\n",
        "####**Herança: Reutilização de Código e Hierarquia de Classes**\n",
        "\n",
        "A herança permite que você crie novas classes (subclasses) que herdam atributos e métodos de classes existentes (superclasses). Isso promove a reutilização de código e a criação de hierarquias de classes."
      ],
      "metadata": {
        "id": "3jhnxSxH179a"
      }
    },
    {
      "cell_type": "code",
      "source": [
        "class PastorAlemao(Cachorro): # Classe herdada da Classe Chachoro\n",
        "    \"\"\"Uma subclasse de Cachorro que representa um pastor alemão.\"\"\"\n",
        "\n",
        "    def __init__(self, nome, idade):\n",
        "        \"\"\"Inicializa os atributos do pastor alemão.\"\"\"\n",
        "        super().__init__(nome, \"Pastor Alemão\", idade)\n",
        "\n",
        "    def farejar(self):\n",
        "        \"\"\"Faz o pastor alemão farejar.\"\"\"\n",
        "        print(f\"{self.nome} está farejando!\")\n",
        "\n",
        "meu_pastor = PastorAlemao(\"Max\", 2)\n",
        "meu_pastor.latir()    # Saída: Max está latindo! (herdado de Cachorro)\n",
        "meu_pastor.farejar()  # Saída: Max está farejando!"
      ],
      "metadata": {
        "colab": {
          "base_uri": "https://localhost:8080/"
        },
        "id": "FUJE8CT_2VZM",
        "outputId": "5aece4ea-a380-45bf-e596-a34aee3cc786"
      },
      "execution_count": null,
      "outputs": [
        {
          "output_type": "stream",
          "name": "stdout",
          "text": [
            "Max está latindo!\n",
            "Max está farejando!\n"
          ]
        }
      ]
    },
    {
      "cell_type": "markdown",
      "source": [
        "**Explicação**:\n",
        "\n",
        "* A classe `PastorAlemao` herda da classe Cachorro.\n",
        "* O construtor da subclasse chama o construtor da superclasse usando `super().__init__.`\n",
        "* A subclasse adiciona um novo método `farejar`.\n",
        "\n",
        "####**Polimorfismo: \"Muitas Formas\"**\n",
        "\n",
        "O polimorfismo permite que objetos de diferentes classes respondam ao mesmo método de maneiras diferentes.\n",
        "\n",
        "\n"
      ],
      "metadata": {
        "id": "-7yCfVFi2Dpq"
      }
    },
    {
      "cell_type": "code",
      "source": [
        "class Cachorro:\n",
        "    \"\"\"Uma classe que representa um cachorro.\"\"\"\n",
        "\n",
        "    def __init__(self, nome, raça, idade):\n",
        "        \"\"\"Inicializa os atributos do cachorro.\"\"\"\n",
        "        self.nome = nome\n",
        "        self.raça = raça\n",
        "        self.idade = idade\n",
        "\n",
        "    def latir(self):\n",
        "        \"\"\"Faz o cachorro latir.\"\"\"\n",
        "        print(f\"{self.nome} está latindo!\")\n",
        "\n",
        "    def fazer_aniversario(self):\n",
        "        \"\"\"Aumenta a idade do cachorro em 1 ano.\"\"\"\n",
        "        self.idade += 1\n",
        "\n",
        "    def emitir_som(self): # Add method to Cachorro class\n",
        "        \"\"\"O som que o cachorro emite.\"\"\"\n",
        "        print(f\"{self.nome} está latindo!\")\n",
        "\n",
        "class PastorAlemao(Cachorro): # Classe herdada da Classe Chachoro\n",
        "    \"\"\"Uma subclasse de Cachorro que representa um pastor alemão.\"\"\"\n",
        "\n",
        "    def __init__(self, nome, idade):\n",
        "        \"\"\"Inicializa os atributos do pastor alemão.\"\"\"\n",
        "        super().__init__(nome, \"Pastor Alemão\", idade)\n",
        "\n",
        "    def farejar(self):\n",
        "        \"\"\"Faz o pastor alemão farejar.\"\"\"\n",
        "        print(f\"{self.nome} está farejando!\")\n",
        "\n",
        "class Gato:\n",
        "    def __init__(self, nome):\n",
        "        self.nome = nome\n",
        "\n",
        "    def emitir_som(self):\n",
        "        print(f\"{self.nome} está miando!\")\n",
        "\n",
        "cachorro1 = Cachorro(\"Apolo\", \"Golden Retriever\", 3)\n",
        "meu_pastor = PastorAlemao(\"Max\", 2)\n",
        "meu_gato = Gato(\"Mia\")\n",
        "\n",
        "for animal in [cachorro1, meu_pastor, meu_gato]:\n",
        "    animal.emitir_som() # Now all classes have the method 'emitir_som'\n"
      ],
      "metadata": {
        "colab": {
          "base_uri": "https://localhost:8080/"
        },
        "collapsed": true,
        "id": "2cgHpNra3wgJ",
        "outputId": "c74afe0c-53e6-44bd-d6c6-df166d293e33"
      },
      "execution_count": null,
      "outputs": [
        {
          "output_type": "stream",
          "name": "stdout",
          "text": [
            "Apolo está latindo!\n",
            "Max está latindo!\n",
            "Mia está miando!\n"
          ]
        }
      ]
    },
    {
      "cell_type": "markdown",
      "source": [
        "**Explicação:**\n",
        "\n",
        "* As classes `Cachorro`, `PastorAlemao` e `Gato` têm um método emitir_som.\n",
        "* O loop percorre uma lista de animais e chama o método `emitir_som` para cada um, produzindo diferentes sons.\n",
        "\n",
        "\n",
        "####**Encapsulamento e Abstração: Protegendo Dados e Simplificando a Interface**\n",
        "\n",
        "O encapsulamento protege os dados de um objeto, permitindo que sejam acessados e modificados apenas por meio dos métodos da classe. A abstração simplifica a interface do objeto, ocultando detalhes de implementação."
      ],
      "metadata": {
        "id": "_RIdkDxX5YuC"
      }
    },
    {
      "cell_type": "code",
      "source": [
        "class ContaBancaria:\n",
        "    def __init__(self, saldo_inicial):\n",
        "        self._saldo = saldo_inicial  # Atributo privado (convenção com \"_\")\n",
        "\n",
        "    def depositar(self, valor):\n",
        "        self._saldo += valor\n",
        "\n",
        "    def sacar(self, valor):\n",
        "        if valor <= self._saldo:\n",
        "            self._saldo -= valor\n",
        "        else:\n",
        "            print(\"Saldo insuficiente!\")\n",
        "\n",
        "    def consultar_saldo(self):\n",
        "        return self._saldo"
      ],
      "metadata": {
        "id": "OT5Mks1a5yvP"
      },
      "execution_count": null,
      "outputs": []
    },
    {
      "cell_type": "markdown",
      "source": [
        "**Explicação**:\n",
        "\n",
        "* O atributo `_saldo` é privado (convenção com \"_\"), indicando que não deve ser acessado diretamente de fora da classe.\n",
        "* Os métodos `depositar`, `sacar` e `consultar_saldo` fornecem uma interface para interagir com o saldo da conta de forma segura e controlada."
      ],
      "metadata": {
        "id": "Z1U1pdzw5-DT"
      }
    },
    {
      "cell_type": "markdown",
      "source": [
        "## Capítulo 3: Análise de Dados com Python: Ferramentas Essenciais para Cientistas de Dados\n",
        "\n",
        "Python se tornou a língua franca da ciência de dados, graças ao seu ecossistema rico em bibliotecas poderosas e intuitivas. Neste capítulo, vamos explorar três pilares da análise de dados em Python: NumPy, Pandas e Matplotlib. Com estas ferramentas, você será capaz de manipular, analisar e visualizar seus dados de forma eficiente e eficaz.\n",
        "\n",
        "###**NumPy: A Base da Computação Numérica em Python**\n",
        "\n",
        "NumPy (Numerical Python) é a biblioteca fundamental para computação numérica em Python. Ela fornece uma estrutura de dados poderosa chamada ndarray (N-dimensional array), que permite realizar operações matemáticas de forma eficiente em grandes conjuntos de dados.\n",
        "\n",
        "**Principais recursos do NumPy:**\n",
        "\n",
        "* **Arrays N-dimensionais:** Estruturas de dados eficientes para armazenar e manipular dados numéricos em várias dimensões.\n",
        "* **Broadcasting:** Capacidade de realizar operações entre arrays de diferentes formas, seguindo regras intuitivas.\n",
        "* **Funções matemáticas:** Uma vasta coleção de funções matemáticas otimizadas para operações em arrays, como álgebra linear, transformadas de Fourier, geração de números aleatórios e muito mais.\n",
        "* **Indexação e fatiamento:** Ferramentas poderosas para acessar e manipular elementos específicos de um array.\n",
        "\n",
        "**Exemplo:**"
      ],
      "metadata": {
        "id": "fzpsRLULHc2p"
      }
    },
    {
      "cell_type": "code",
      "source": [
        "import numpy as np\n",
        "\n",
        "# Criando um array NumPy\n",
        "arr = np.array([1, 2, 3, 4, 5])\n",
        "\n",
        "# Operações matemáticas\n",
        "print(arr + 2)     # Saída: [3 4 5 6 7]\n",
        "print(arr * 3)     # Saída: [3 6 9 12 15]\n",
        "print(np.sin(arr))  # Saída: [0.84147098 0.90929743 0.14112001 -0.7568025  -0.95892427]\n",
        "\n",
        "# Indexação e fatiamento\n",
        "print(arr[0])      # Saída: 1\n",
        "print(arr[2:4])    # Saída: [3 4]"
      ],
      "metadata": {
        "id": "RBjb1w4gIRPC"
      },
      "execution_count": null,
      "outputs": []
    },
    {
      "cell_type": "markdown",
      "source": [
        "**Explicação:**\n",
        "\n",
        "* Importamos o NumPy como `np`.\n",
        "* Criamos um array `arr` com os números de 1 a 5.\n",
        "* Realizamos operações matemáticas (soma, multiplicação, seno) em todo o array.\n",
        "* Acessamos elementos específicos do array usando indexação (`arr[0]`) e fatiamento (`arr[2:4]`).\n",
        "\n",
        "### **Pandas: A Ferramenta Indispensável para Análise de Dados**\n",
        "\n",
        "Pandas é uma biblioteca construída sobre o NumPy que oferece estruturas de dados flexíveis e ferramentas de alto nível para manipulação e análise de dados. A principal estrutura de dados do Pandas é o **DataFrame**, uma tabela bidimensional com rótulos para linhas e colunas.\n",
        "\n",
        "**Principais recursos do Pandas:**\n",
        "\n",
        "* **DataFrames:** Manipulação de dados tabulares de forma intuitiva, com operações como filtragem, ordenação, agrupamento e agregação.\n",
        "* **Leitura e escrita de dados:** Facilidade para importar e exportar dados de diversos formatos, como CSV, Excel, SQL e muitos outros.\n",
        "* **Limpeza e transformação de dados:** Ferramentas para lidar com dados ausentes, valores duplicados, conversão de tipos e outras tarefas de preparação de dados.\n",
        "* **Análise exploratória de dados:** Funções para calcular estatísticas descritivas, visualizar distribuições e identificar padrões nos dados.\n",
        "Exemplo:\n",
        "\n"
      ],
      "metadata": {
        "id": "h9RidoE3IV9s"
      }
    },
    {
      "cell_type": "code",
      "source": [
        "import pandas as pd\n",
        "\n",
        "# Criando um DataFrame\n",
        "dados = {'Nome': ['Alice', 'Bob', 'Charlie'], 'Idade': [25, 30, 35]}\n",
        "df = pd.DataFrame(dados)\n",
        "\n",
        "# Manipulação de dados\n",
        "print(df[df['Idade'] > 30])  # Filtra as linhas com idade maior que 30\n",
        "print(df.groupby('Idade').mean())  # Calcula a média por grupo de idade"
      ],
      "metadata": {
        "id": "0PiTzL00JT4i"
      },
      "execution_count": null,
      "outputs": []
    },
    {
      "cell_type": "markdown",
      "source": [
        "Explicação:\n",
        "\n",
        "* Importamos o Pandas como `pd`.\n",
        "* Criamos um DataFrame `df` a partir de um dicionário.\n",
        "* Filtramos as linhas do DataFrame com base na idade.\n",
        "* Agrupamos os dados por idade e calculamos a média.\n",
        "\n",
        "###**Matplotlib: Visualizando Seus Dados com Estilo**\n",
        "\n",
        "Matplotlib é a biblioteca de visualização mais popular em Python, oferecendo uma ampla gama de opções para criar gráficos estáticos, animados e interativos. Com Matplotlib, você pode visualizar seus dados de diversas formas, desde gráficos de linha e barras até histogramas, diagramas de dispersão e mapas de calor.\n",
        "\n",
        "**Principais recursos do Matplotlib:**\n",
        "\n",
        "Flexibilidade: Personalize seus gráficos com controle total sobre cores, estilos, legendas, eixos e muito mais.\n",
        "Variedade de gráficos: Crie diferentes tipos de gráficos para representar seus dados da melhor forma possível.\n",
        "Integração com NumPy e Pandas: Facilidade para visualizar dados armazenados em arrays NumPy e DataFrames Pandas.\n",
        "Interatividade: Crie gráficos interativos que permitem ao usuário explorar os dados de forma dinâmica.\n",
        "\n",
        "**Exemplo:**\n",
        "\n"
      ],
      "metadata": {
        "id": "UEDSEsLiJYTe"
      }
    },
    {
      "cell_type": "code",
      "source": [
        "import matplotlib.pyplot as plt\n",
        "\n",
        "# Dados\n",
        "x = [1, 2, 3, 4, 5]\n",
        "y = [1, 4, 9, 16, 25]\n",
        "\n",
        "# Criando o gráfico\n",
        "plt.plot(x, y, marker='o', linestyle='--', color='blue')\n",
        "plt.xlabel('X')\n",
        "plt.ylabel('Y')\n",
        "plt.title('Gráfico de Linha')\n",
        "plt.grid(True)\n",
        "plt.show()"
      ],
      "metadata": {
        "id": "ocr_cHEbKJlc"
      },
      "execution_count": null,
      "outputs": []
    },
    {
      "cell_type": "markdown",
      "source": [
        "**Explicação:**\n",
        "\n",
        "* Importamos o módulo `pyplot` do Matplotlib como `plt`.\n",
        "* Definimos os dados `x` e `y`.\n",
        "* Criamos um gráfico de linha com marcadores circulares (`marker='o'`), estilo de linha tracejada (`linestyle='--'`) e cor azul (`color='blue'`).\n",
        "* Adicionamos rótulos aos eixos e um título ao gráfico.\n",
        "* Exibimos o gráfico."
      ],
      "metadata": {
        "id": "3IL5dwRxKNY8"
      }
    },
    {
      "cell_type": "markdown",
      "source": [
        "**Exemplos Completos com NumPy, Pandas e Matplotlib**\n",
        "\n",
        "**Exemplo 1: Análise de Dados de Vendas**\n",
        "\n",
        "Vamos analisar um conjunto de dados de vendas fictício para entender o desempenho de diferentes produtos e regiões."
      ],
      "metadata": {
        "id": "TqDToOSOK3tO"
      }
    },
    {
      "cell_type": "code",
      "source": [
        "import pandas as pd\n",
        "import matplotlib.pyplot as plt\n",
        "\n",
        "# Criando um DataFrame com dados de vendas\n",
        "dados = {\n",
        "    'Produto': ['A', 'B', 'C', 'A', 'B', 'C'],\n",
        "    'Região': ['Norte', 'Norte', 'Norte', 'Sul', 'Sul', 'Sul'],\n",
        "    'Vendas': [1000, 1500, 1200, 800, 900, 1100]\n",
        "}\n",
        "df = pd.DataFrame(dados)\n",
        "\n",
        "# Calculando estatísticas descritivas\n",
        "print(df.describe())\n",
        "\n",
        "# Agrupando por produto e região\n",
        "vendas_agrupadas = df.groupby(['Produto', 'Região']).sum()\n",
        "\n",
        "# Criando um gráfico de barras\n",
        "vendas_agrupadas.unstack().plot(kind='bar')\n",
        "plt.title('Vendas por Produto e Região')\n",
        "plt.ylabel('Vendas')\n",
        "plt.show()"
      ],
      "metadata": {
        "colab": {
          "base_uri": "https://localhost:8080/",
          "height": 623
        },
        "id": "Ql3QC2vFLDkN",
        "outputId": "afa9973a-4ea7-41ef-be3b-082f26e78b00"
      },
      "execution_count": 1,
      "outputs": [
        {
          "output_type": "stream",
          "name": "stdout",
          "text": [
            "            Vendas\n",
            "count     6.000000\n",
            "mean   1083.333333\n",
            "std     248.327740\n",
            "min     800.000000\n",
            "25%     925.000000\n",
            "50%    1050.000000\n",
            "75%    1175.000000\n",
            "max    1500.000000\n"
          ]
        },
        {
          "output_type": "display_data",
          "data": {
            "text/plain": [
              "<Figure size 640x480 with 1 Axes>"
            ],
            "image/png": "[encoded data removed]"
          },
          "metadata": {}
        }
      ]
    },
    {
      "cell_type": "markdown",
      "source": [
        "**Explicação:**\n",
        "\n",
        "* Criação do DataFrame: Criamos um DataFrame `df` com colunas Produto, Região e Vendas.\n",
        "* Estatísticas descritivas: Usamos `df.describe()` para obter um resumo estatístico das vendas (contagem, média, desvio padrão, mínimo, máximo, quartis).\n",
        "* Agrupamento: Agrupamos os dados por Produto e Região e somamos as vendas de cada grupo, armazenando o resultado em vendas_agrupadas.\n",
        "* Gráfico de barras: Usamos `vendas_agrupadas.unstack().plot(kind='bar')` para criar um gráfico de barras que compara as vendas de cada produto em cada região.\n",
        "\n",
        "**Exemplo 2: Análise de Dados de Temperatura**\n",
        "\n",
        "Vamos analisar dados de temperatura de diferentes cidades ao longo do tempo."
      ],
      "metadata": {
        "id": "7U9Ibsb5LMM5"
      }
    },
    {
      "cell_type": "code",
      "source": [
        "import pandas as pd\n",
        "import matplotlib.pyplot as plt\n",
        "\n",
        "# Criando um DataFrame com dados de temperatura\n",
        "dados = {\n",
        "    'Cidade': ['São Paulo', 'Rio de Janeiro', 'São Paulo', 'Rio de Janeiro'],\n",
        "    'Data': ['2024-07-01', '2024-07-01', '2024-07-02', '2024-07-02'],\n",
        "    'Temperatura': [22, 28, 20, 26]\n",
        "}\n",
        "df = pd.DataFrame(dados)\n",
        "\n",
        "# Convertendo a coluna 'Data' para datetime\n",
        "df['Data'] = pd.to_datetime(df['Data'])\n",
        "\n",
        "# Criando um gráfico de linhas\n",
        "plt.figure(figsize=(10, 6))\n",
        "for cidade in df['Cidade'].unique():\n",
        "    df_cidade = df[df['Cidade'] == cidade]\n",
        "    plt.plot(df_cidade['Data'], df_cidade['Temperatura'], label=cidade)\n",
        "\n",
        "plt.xlabel('Data')\n",
        "plt.ylabel('Temperatura (°C)')\n",
        "plt.title('Variação da Temperatura em São Paulo e Rio de Janeiro')\n",
        "plt.legend()\n",
        "plt.grid(True)\n",
        "plt.show()"
      ],
      "metadata": {
        "colab": {
          "base_uri": "https://localhost:8080/",
          "height": 564
        },
        "id": "GXI-o5shL2SE",
        "outputId": "14380af3-3e28-4cef-b71d-66d70ba3995b"
      },
      "execution_count": 2,
      "outputs": [
        {
          "output_type": "display_data",
          "data": {
            "text/plain": [
              "<Figure size 1000x600 with 1 Axes>"
            ],
            "image/png": "[encoded data removed]"
          },
          "metadata": {}
        }
      ]
    },
    {
      "cell_type": "markdown",
      "source": [
        "**Explicação:**\n",
        "\n",
        "* **Criação do DataFrame:** Criamos um DataFrame df com colunas Cidade, Data e Temperatura.\n",
        "* **Conversão de tipo:** Convertemos a coluna Data para o tipo datetime para facilitar a plotagem.\n",
        "* **Gráfico de linhas:** Criamos um gráfico de linhas com duas linhas, uma para cada cidade, mostrando a variação da temperatura ao longo do tempo. Usamos um loop for para plotar cada cidade separadamente.\n",
        "\n",
        "\n",
        "Estes exemplos demonstram como NumPy, Pandas e Matplotlib podem ser combinados para realizar análises de dados completas, desde a manipulação e limpeza dos dados até a criação de visualizações informativas."
      ],
      "metadata": {
        "id": "f8-rJ7jqL9yZ"
      }
    },
    {
      "cell_type": "markdown",
      "source": [
        "## **Capítulo 4: Python para Alto Desempenho: Otimizando seus Programas**\n",
        "Python é uma linguagem poderosa e flexível, mas sua natureza interpretada pode levar a gargalos de desempenho em certas situações. Neste capítulo, exploraremos duas técnicas avançadas para otimizar seus programas Python: multithreading, multiprocessing e Cython.\n",
        "\n",
        "### **Multithreading e Multiprocessing: Concorrência para Acelerar seu Código**\n",
        "\n",
        "Python oferece duas abordagens principais para executar tarefas simultaneamente:\n",
        "\n",
        "* **Multithreading:** Múltiplas threads (linhas de execução) compartilham o mesmo espaço de memória, permitindo comunicação eficiente, mas limitadas pelo Global Interpreter Lock (GIL) do Python em tarefas intensivas de CPU.\n",
        "* **Multiprocessing:** Múltiplos processos (instâncias independentes do interpretador Python) possuem seus próprios espaços de memória, evitando o GIL e permitindo o uso total de múltiplos núcleos de CPU, mas com comunicação entre processos mais complexa.\n",
        "\n",
        "**Quando usar cada um?**\n",
        "\n",
        "* **Multithreading:** Ideal para tarefas que envolvem muita espera (I/O bound), como operações de rede ou leitura/escrita em disco.\n",
        "* **Multiprocessing:** Ideal para tarefas que exigem muito processamento (CPU bound), como cálculos numéricos complexos.\n",
        "\n",
        "**Exemplo de Multithreading:**"
      ],
      "metadata": {
        "id": "B-ReX0l-NN7E"
      }
    },
    {
      "cell_type": "code",
      "source": [
        "import threading\n",
        "import time\n",
        "\n",
        "def tarefa(nome):\n",
        "    print(f\"Thread {nome}: iniciando\")\n",
        "    time.sleep(2)  # Simula uma tarefa demorada\n",
        "    print(f\"Thread {nome}: finalizando\")\n",
        "\n",
        "threads = []\n",
        "for i in range(3):\n",
        "    t = threading.Thread(target=tarefa, args=(i,))\n",
        "    threads.append(t)\n",
        "    t.start()\n",
        "\n",
        "for t in threads:\n",
        "    t.join()  # Aguarda o término de todas as threads\n",
        "\n",
        "print(\"Todas as threads foram concluídas!\")"
      ],
      "metadata": {
        "colab": {
          "base_uri": "https://localhost:8080/"
        },
        "id": "Ya9eImxYN7qu",
        "outputId": "5e988a93-c425-453b-c624-466a88198b63"
      },
      "execution_count": 3,
      "outputs": [
        {
          "output_type": "stream",
          "name": "stdout",
          "text": [
            "Thread 0: iniciando\n",
            "Thread 1: iniciandoThread 2: iniciando\n",
            "\n",
            "Thread 0: finalizandoThread 1: finalizandoThread 2: finalizando\n",
            "\n",
            "\n",
            "Todas as threads foram concluídas!\n"
          ]
        }
      ]
    },
    {
      "cell_type": "markdown",
      "source": [
        "**Explicação:**\n",
        "\n",
        "* Criamos uma função `tarefa` que simula uma operação demorada.\n",
        "* Criamos três threads, cada uma executando a função `tarefa` com um nome diferente.\n",
        "* Iniciamos as threads com `t.start()`.\n",
        "Usamos `t.join()` para aguardar o término de todas as threads antes de prosseguir.\n",
        "\n",
        "**Exemplo de Multiprocessing:**"
      ],
      "metadata": {
        "id": "amtjlpFhODST"
      }
    },
    {
      "cell_type": "code",
      "source": [
        "import multiprocessing\n",
        "\n",
        "def calcular_quadrado(numero, resultado):\n",
        "    resultado.value = numero ** 2\n",
        "\n",
        "if __name__ == '__main__':\n",
        "    numeros = [1, 2, 3, 4, 5]\n",
        "    resultados = []\n",
        "    processos = []\n",
        "\n",
        "    for num in numeros:\n",
        "        resultado = multiprocessing.Value('i', 0)  # Armazena o resultado\n",
        "        resultados.append(resultado)\n",
        "        p = multiprocessing.Process(target=calcular_quadrado, args=(num, resultado))\n",
        "        processos.append(p)\n",
        "        p.start()\n",
        "\n",
        "    for p in processos:\n",
        "        p.join()\n",
        "\n",
        "    for r in resultados:\n",
        "        print(r.value)"
      ],
      "metadata": {
        "colab": {
          "base_uri": "https://localhost:8080/"
        },
        "id": "xArV9iiwPBaU",
        "outputId": "4249ab93-69de-4ece-a1a6-9d24f9764532"
      },
      "execution_count": 4,
      "outputs": [
        {
          "output_type": "stream",
          "name": "stdout",
          "text": [
            "1\n",
            "4\n",
            "9\n",
            "16\n",
            "25\n"
          ]
        }
      ]
    },
    {
      "cell_type": "markdown",
      "source": [
        "**Explicação:**\n",
        "\n",
        "* Criamos uma função calcular_quadrado que recebe um número e um objeto multiprocessing.Value para armazenar o resultado.\n",
        "* Criamos um processo para cada número na lista numeros, passando o número e o objeto de resultado.\n",
        "* Iniciamos os processos com `p.start()`.\n",
        "* Aguardamos o término dos processos com p`.join()`.\n",
        "* Imprimimos os resultados armazenados nos objetos `multiprocessing.Value`.\n",
        "\n",
        "### **Cython: Combinando Python com C para um Desempenho Superior**\n",
        "Cython é uma linguagem que permite escrever código Python com tipagem estática e compilar para C, resultando em um aumento significativo de desempenho.\n",
        "\n",
        "**Exemplo:**\n",
        "```cython\n",
        "# Arquivo: calcular_pi.pyx\n",
        "\n",
        "cdef extern from \"math.h\":\n",
        "    double M_PI\n",
        "\n",
        "cpdef double calcular_pi(int n):\n",
        "    cdef double soma = 0\n",
        "    cdef int i\n",
        "    for i in range(n):\n",
        "        soma += 4.0 / (8 * i + 1) - 2.0 / (8 * i + 4) - 1.0 / (8 * i + 5) - 1.0 / (8 * i + 6)\n",
        "    return soma / 10**8 * M_PI\n",
        "```\n",
        "\n",
        "```bash\n",
        "# Compilação\n",
        "!cythonize -a calcular_pi.pyx\n",
        "```\n",
        "```python\n",
        "# Uso\n",
        "import calcular_pi\n",
        "\n",
        "print(calcular_pi(1000000))\n",
        "\n",
        "```\n",
        "\n",
        "**Explicação:**\n",
        "\n",
        "* Definimos a função `calcular_pi` em Cython, usando tipagem estática (`cdef`) para variáveis e `cpdef` para a função.\n",
        "* Compilamos o código Cython em um módulo Python usando o comando cythonizar.\n",
        "* Importamos o módulo compilado e usamos a função `calcular_pi`.\n",
        "\n",
        "Ao combinar as técnicas de multithreading, multiprocessing e Cython, você pode otimizar seus programas Python para um desempenho excepcional, aproveitando ao máximo os recursos do seu hardware e acelerando a execução de tarefas complexas.\n",
        "\n",
        "**Observações:**\n",
        "\n",
        "* **Compilador C/C++:** Para compilar o código Cython em código C/C++, você precisará ter um compilador C/C++ instalado em seu sistema. No Linux, você pode instalar o GCC (GNU Compiler Collection), e no Windows, o Visual C++ Build Tools.\n",
        "* **Google Colab:**  No Google Colab, o Cython já está pré-instalado, então você não precisa se preocupar com a instalação.\n",
        "\n",
        "Com o Cython instalado, você poderá começar a escrever código Python com tipagem estática e compilar para C, obtendo um ganho significativo de desempenho em seus programas.\n",
        "\n",
        "\n",
        "\n"
      ],
      "metadata": {
        "id": "MA1-swtIPRXB"
      }
    },
    {
      "cell_type": "markdown",
      "source": [
        "## **Capítulo 5: Mergulhando no Python Profundo: Recursos Avançados e Padrões de Design**\n",
        "\n",
        "Neste capítulo, exploraremos recursos avançados do Python que permitem criar soluções mais sofisticadas e elegantes. Abordaremos metaclasses, o modelo de dados do Python e seus métodos mágicos, além de padrões de design que promovem a modularidade e reutilização de código.\n",
        "\n",
        "### **Metaclasses: O Poder por Trás da Criação de Classes**\n",
        "\n",
        "Em Python, tudo é um objeto, até mesmo as classes. As metaclasses são classes que criam outras classes. Elas permitem que você controle o processo de criação de classes, adicionando funcionalidades extras e personalizando o comportamento delas.\n",
        "\n",
        "Exemplo:"
      ],
      "metadata": {
        "id": "VHgUoKPjUcDy"
      }
    },
    {
      "cell_type": "code",
      "source": [
        "class MetaSingleton(type):\n",
        "    _instances = {}\n",
        "\n",
        "    def __call__(cls, *args, **kwargs):\n",
        "        if cls not in cls._instances:\n",
        "            cls._instances[cls] = super(MetaSingleton, cls).__call__(*args, **kwargs)\n",
        "        return cls._instances[cls]\n",
        "\n",
        "class Singleton(metaclass=MetaSingleton):\n",
        "    pass\n",
        "\n",
        "s1 = Singleton()\n",
        "s2 = Singleton()\n",
        "print(s1 is s2)  # Saída: True"
      ],
      "metadata": {
        "colab": {
          "base_uri": "https://localhost:8080/"
        },
        "id": "gTxVcxIAUnn_",
        "outputId": "79eddb2e-fb5d-4853-a43e-5382fa182d8b"
      },
      "execution_count": 5,
      "outputs": [
        {
          "output_type": "stream",
          "name": "stdout",
          "text": [
            "True\n"
          ]
        }
      ]
    },
    {
      "cell_type": "markdown",
      "source": [
        "**Explicação:**\n",
        "\n",
        "* A metaclasse `MetaSingleton` é responsável por garantir que apenas uma instância da classe Singleton seja criada.\n",
        "* O método `__call__` é chamado quando você tenta criar um novo objeto da classe `Singleton`.\n",
        "* Se a instância ainda não existir, ela é criada e armazenada em `_instances`.\n",
        "* Se a instância já existir, ela é retornada, garantindo que você sempre obtenha a mesma instância.\n",
        "\n",
        "**O Modelo de Dados do Python e Métodos Mágicos:**\n",
        "\n",
        "Personalizando o Comportamento de Objetos\n",
        "O modelo de dados do Python é um conjunto de protocolos que definem como os objetos interagem entre si e com a linguagem. Os **métodos mágicos** (ou dunder methods, por terem nomes que começam e terminam com dois underscores) são métodos especiais que permitem personalizar o comportamento dos objetos.\n",
        "\n",
        "**Exemplos:**"
      ],
      "metadata": {
        "id": "SM_8n5_GUtxC"
      }
    },
    {
      "cell_type": "code",
      "source": [
        "class Ponto:\n",
        "    def __init__(self, x, y):\n",
        "        self.x = x\n",
        "        self.y = y\n",
        "\n",
        "    def __str__(self):\n",
        "        return f\"({self.x}, {self.y})\"\n",
        "\n",
        "    def __add__(self, outro):\n",
        "        return Ponto(self.x + outro.x, self.y + outro.y)\n",
        "\n",
        "p1 = Ponto(2, 3)\n",
        "p2 = Ponto(4, 5)\n",
        "print(p1)        # Saída: (2, 3)\n",
        "print(p1 + p2)   # Saída: (6, 8)"
      ],
      "metadata": {
        "colab": {
          "base_uri": "https://localhost:8080/"
        },
        "id": "xf-jHBZNVRwG",
        "outputId": "4d38c724-c76a-4e72-8e47-b62d926dcbf0"
      },
      "execution_count": 6,
      "outputs": [
        {
          "output_type": "stream",
          "name": "stdout",
          "text": [
            "(2, 3)\n",
            "(6, 8)\n"
          ]
        }
      ]
    },
    {
      "cell_type": "markdown",
      "source": [
        "**Explicação:**\n",
        "\n",
        "* `__init__`: Inicializa o objeto.\n",
        "* `__str__`: Define como o objeto é representado como string (usado pelo print).\n",
        "* `__add__`: Define como dois objetos da classe são somados.\n",
        "\n",
        "**Padrões de Design: Boas Práticas para um Código Mais Eficaz**\n",
        "\n",
        "Padrões de design são soluções reutilizáveis para problemas comuns de design de software. Eles fornecem um vocabulário comum para desenvolvedores e ajudam a criar código mais modular, reutilizável e fácil de manter.\n",
        "\n",
        "**Exemplos de padrões de design:**\n",
        "\n",
        "* **Singleton:** Garante que apenas uma instância de uma classe seja criada.\n",
        "* **Factory:** Fornece uma interface para criar objetos sem especificar a classe exata.\n",
        "* **Observer:** Define uma dependência um-para-muitos entre objetos, de modo que quando um objeto muda de estado, todos os seus dependentes são notificados e atualizados automaticamente.\n",
        "* **Decorator:** Permite adicionar responsabilidades a um objeto dinamicamente, sem modificar sua estrutura.\n",
        "\n",
        "**Exemplo de Decorator:**"
      ],
      "metadata": {
        "id": "i0ZExVCLVb0c"
      }
    },
    {
      "cell_type": "code",
      "source": [
        "def registrar_tempo(func):\n",
        "    def wrapper(*args, **kwargs):\n",
        "        inicio = time.time()\n",
        "        resultado = func(*args, **kwargs)\n",
        "        fim = time.time()\n",
        "        print(f\"{func.__name__} levou {fim - inicio:.4f} segundos para executar.\")\n",
        "        return resultado\n",
        "    return wrapper\n",
        "\n",
        "@registrar_tempo\n",
        "def minha_funcao():\n",
        "    time.sleep(2)\n",
        "\n",
        "minha_funcao()  # Executa a função e registra o tempo de execução"
      ],
      "metadata": {
        "id": "DMW5mHiVWHsg"
      },
      "execution_count": null,
      "outputs": []
    },
    {
      "cell_type": "markdown",
      "source": [
        "**Explicação:**\n",
        "\n",
        "* O decorador `registrar_tempo` registra o tempo de execução de qualquer função que ele decora.\n",
        "* A função `wrapper` é a função que realmente será executada. Ela mede o tempo de execução da função original e imprime o resultado.\n",
        "\n",
        "Ao dominar metaclasses, métodos mágicos e padrões de design, você terá um conjunto poderoso de ferramentas para criar soluções Python elegantes, eficientes e de alta qualidade."
      ],
      "metadata": {
        "id": "vPL9gEiUWMXn"
      }
    },
    {
      "cell_type": "markdown",
      "source": [
        "## **Capítulo 6: Python para Inteligência Artificial: Ferramentas e Bibliotecas Poderosas**\n",
        "\n",
        "Python se estabeleceu como a linguagem de escolha para a Inteligência Artificial (IA), graças à sua simplicidade, flexibilidade e, principalmente, ao seu ecossistema vibrante de bibliotecas especializadas. Neste capítulo, exploraremos as principais bibliotecas para Machine Learning, Processamento de Linguagem Natural (NLP) e Visão Computacional, capacitando você a construir sistemas inteligentes e inovadores.\n",
        "\n",
        "### **Bibliotecas para Machine Learning: Scikit-learn, TensorFlow e PyTorch**\n",
        "\n",
        "**Scikit-learn: Simplicidade e Eficiência para Algoritmos Clássicos**\n",
        "\n",
        "Scikit-learn é uma biblioteca essencial para iniciantes e especialistas em Machine Learning. Ela oferece uma interface consistente e fácil de usar para uma ampla gama de algoritmos clássicos de aprendizado de máquina, como:\n",
        "\n",
        "#### **Classificação: Predizendo Categorias**\n",
        "\n",
        "A classificação é uma tarefa de aprendizado supervisionado que envolve a previsão de rótulos categóricos (classes) para novos dados, com base em exemplos rotulados. O Scikit-learn oferece diversos algoritmos de classificação, cada um com suas próprias características e aplicações:\n",
        "\n",
        "* **Support Vector Machines (SVM):** Encontra um hiperplano que maximiza a margem entre as classes, sendo eficaz em problemas com alta dimensionalidade e dados não linearmente separáveis.\n",
        "* **Árvores de Decisão:** Constrói um modelo em forma de árvore, onde cada nó representa um teste em um atributo e cada ramo representa o resultado do teste. São fáceis de interpretar e podem lidar com dados categóricos e numéricos.\n",
        "* **Random Forests:** Combina várias árvores de decisão em um único modelo, melhorando a precisão e reduzindo o overfitting.\n",
        "* **Regressão Logística:** Modela a probabilidade de um evento ocorrer, sendo amplamente utilizada em problemas de classificação binária e multiclasse.\n",
        "* **Naive Bayes:** Classificador probabilístico baseado no teorema de Bayes, que assume a independência condicional entre os atributos. É simples e eficiente, mas pode ter um desempenho inferior em problemas complexos.\n",
        "* **K-Nearest Neighbors (KNN):** Classifica novos pontos de dados com base na classe dos seus vizinhos mais próximos. É simples e intuitivo, mas pode ser computacionalmente caro para grandes conjuntos de dados.\n",
        "\n",
        "**Regressão: Predizendo Valores Contínuos**\n",
        "\n",
        "A regressão é uma tarefa de aprendizado supervisionado que envolve a previsão de valores contínuos para novos dados, com base em exemplos rotulados. O Scikit-learn oferece vários algoritmos de regressão:\n",
        "\n",
        "* **Regressão Linear:** Modela a relação entre uma variável dependente e uma ou mais variáveis independentes como uma função linear. É simples e interpretável, mas pode não ser adequado para relações não lineares.\n",
        "* **Regressão Polinomial:** Estende a regressão linear para modelar relações não lineares usando polinômios de grau superior.\n",
        "* **Support Vector Regression (SVR):** Similar ao SVM, mas adaptado para problemas de regressão.\n",
        "* **Árvores de Decisão e Random Forests:** Também podem ser utilizados para regressão, prevendo valores contínuos em vez de classes.\n",
        "\n",
        "**Clustering: Agrupando Dados Semelhantes**\n",
        "\n",
        "O clustering é uma tarefa de aprendizado não supervisionado que envolve a identificação de grupos (clusters) de dados semelhantes em um conjunto de dados. O Scikit-learn oferece vários algoritmos de clustering:\n",
        "\n",
        "* **K-means:** Divide os dados em um número pré-definido de clusters, minimizando a soma das distâncias quadradas entre os pontos de dados e seus respectivos centroides.\n",
        "* **DBSCAN (Density-Based Spatial Clustering of Applications with Noise):** Agrupa pontos de dados que estão próximos uns dos outros em regiões de alta densidade, identificando outliers (pontos isolados).\n",
        "* **Agrupamento Hierárquico:** Constrói uma hierarquia de clusters, onde cada cluster é formado pela união de dois clusters menores.\n",
        "* **Redução de Dimensionalidade: Simplificando seus Dados**\n",
        "\n",
        "A redução de dimensionalidade é uma técnica que visa\n",
        "reduzir o número de atributos (dimensões) em um conjunto de dados, preservando ao máximo a informação relevante. Isso pode ser útil para visualizar dados, reduzir o custo computacional de algoritmos de aprendizado de máquina e evitar o overfitting.\n",
        "\n",
        "* **Principal Component Analysis (PCA):** Encontra as direções de maior variância nos dados e projeta os dados em um espaço de menor dimensão.\n",
        "* **Linear Discriminant Analysis (LDA):** Similar ao PCA, mas leva em conta as classes dos dados para encontrar as direções que melhor separam as classes.\n",
        "* **t-Distributed Stochastic Neighbor Embedding (t-SNE):** Reduz a dimensionalidade dos dados preservando as relações de vizinhança entre os pontos de dados, sendo útil para visualização.\n",
        "\n",
        "**Seleção de Modelo: Escolhendo o Melhor Modelo para seus Dados**\n",
        "\n",
        "A seleção de modelo é o processo de escolher o melhor algoritmo e seus hiperparâmetros para um determinado problema. O Scikit-learn oferece ferramentas para automatizar esse processo:\n",
        "\n",
        "* **Validação Cruzada:** Divide os dados em várias partes, treina o modelo em algumas partes e avalia em outras, obtendo uma estimativa mais robusta do desempenho do modelo.\n",
        "* **Grid Search:** Testa todas as combinações possíveis de hiperparâmetros em uma grade predefinida e escolhe a melhor combinação com base em uma métrica de avaliação.\n",
        "* **Random Search:** Testa combinações aleatórias de hiperparâmetros, podendo ser mais eficiente que o Grid Search em grandes espaços de busca.\n",
        "\n",
        "\n",
        "\n",
        "\n",
        "\n",
        "\n"
      ],
      "metadata": {
        "id": "xy8tNp4lW5ZT"
      }
    }
  ]
}