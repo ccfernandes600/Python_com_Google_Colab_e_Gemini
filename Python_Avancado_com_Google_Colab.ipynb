{
  "nbformat": 4,
  "nbformat_minor": 0,
  "metadata": {
    "colab": {
      "provenance": [],
      "authorship_tag": "ABX9TyNqrkMjUh7ujOYUAu8sX+Ao",
      "include_colab_link": true
    },
    "kernelspec": {
      "name": "python3",
      "display_name": "Python 3"
    },
    "language_info": {
      "name": "python"
    }
  },
  "cells": [
    {
      "cell_type": "markdown",
      "metadata": {
        "id": "view-in-github",
        "colab_type": "text"
      },
      "source": [
        "<a href=\"https://colab.research.google.com/github/ccfernandes600/Python_com_Google_Colab_e_Gemini/blob/main/Python_Avancado_com_Google_Colab.ipynb\" target=\"_parent\"><img src=\"https://colab.research.google.com/assets/colab-badge.svg\" alt=\"Open In Colab\"/></a>"
      ]
    },
    {
      "cell_type": "markdown",
      "source": [
        "# EM CONSTRUÇÃO (PARTE  2)\n",
        "\n",
        "# Tutorial Avançado de Python: Desvendando o Poder da Linguagem\n",
        "\n",
        "## Capítulo 1: Python Além do Básico: Recursos Poderosos para Programadores Experientes\n",
        "\n",
        "**No Capítulo exploraremos os seguintes assuntos: **\n",
        "\n",
        "* **Compreensões de Lista, Tupla e Dicionário**: Descubra como criar listas, tuplas e dicionários de forma concisa e elegante, dominando a arte da sintaxe compacta e eficiente.\n",
        "* Iteradores e Geradores **negrito**: Mergulhe no mundo dos iteradores e geradores, aprendendo a trabalhar com sequências de dados de forma otimizada e a criar suas próprias estruturas iteráveis.\n",
        "* **Expressões Lambda**: Domine as funções lambda, ferramentas poderosas para criar funções anônimas e simplificar seu código em diversas situações.\n",
        "* **Decoradores**: Explore o mundo dos decoradores, aprendendo como modificar o comportamento de funções e classes de forma elegante e reutilizável."
      ],
      "metadata": {
        "id": "M4YEwOxYoWWq"
      }
    },
    {
      "cell_type": "markdown",
      "source": [
        "###**Compreensões de Lista, Tupla e Dicionário: A Arte da Concisão**\n",
        "\n",
        "As compreensões são uma forma elegante e eficiente de criar listas, tuplas e dicionários em Python. Elas permitem que você condense loops `for` complexos em uma única linha de código, tornando seu código mais legível e expressivo.\n",
        "\n",
        "#### **Exemplo de Compreensão de Lista:**"
      ],
      "metadata": {
        "id": "N8S43DQ6pQuR"
      }
    },
    {
      "cell_type": "code",
      "execution_count": 1,
      "metadata": {
        "id": "sTpRSIzjkeU-",
        "colab": {
          "base_uri": "https://localhost:8080/"
        },
        "outputId": "2f3be7c6-90eb-4377-8ab1-f530d3340c7d"
      },
      "outputs": [
        {
          "output_type": "stream",
          "name": "stdout",
          "text": [
            "[1, 4, 9, 16, 25]\n"
          ]
        }
      ],
      "source": [
        "# Compreensão de Lista\n",
        "numeros = [x**2 for x in range(1, 6)]\n",
        "print(numeros)  # Saída: [1, 4, 9, 16, 25]"
      ]
    },
    {
      "cell_type": "markdown",
      "source": [
        "**Explicação**: Este código cria uma lista numeros contendo os quadrados dos números de 1 a 5. A parte `x**2` calcula o quadrado de cada elemento `x` gerado pelo `range(1, 6)`.\n",
        "\n",
        "\n",
        "#### **Exemplo de Compreensão de tupla:**\n"
      ],
      "metadata": {
        "id": "pQUPbxsiqqUa"
      }
    },
    {
      "cell_type": "code",
      "source": [
        "#  Compreensão de tupla\n",
        "pares = tuple(x for x in range(2, 11, 2))\n",
        "print(pares)  # Saída: (2, 4, 6, 8, 10)"
      ],
      "metadata": {
        "colab": {
          "base_uri": "https://localhost:8080/"
        },
        "id": "MG1Bs2T5rOk-",
        "outputId": "f8bda588-2da8-4e18-9308-7935bed109c3"
      },
      "execution_count": 2,
      "outputs": [
        {
          "output_type": "stream",
          "name": "stdout",
          "text": [
            "(2, 4, 6, 8, 10)\n"
          ]
        }
      ]
    },
    {
      "cell_type": "markdown",
      "source": [
        "**Explicação**: Similar à compreensão de lista, mas cria uma tupla imutável de números pares.\n",
        "\n",
        "\n",
        "#### **Exemplo de Compreensão de dicionário:**"
      ],
      "metadata": {
        "id": "ET9VVcIIrbu2"
      }
    },
    {
      "cell_type": "code",
      "source": [
        "# Compreensão de dicionário\n",
        "quadrados = {x: x**2 for x in range(1, 6)}\n",
        "print(quadrados)  # Saída: {1: 1, 2: 4, 3: 9, 4: 16, 5: 25}"
      ],
      "metadata": {
        "id": "JkIBgvEUrXYl"
      },
      "execution_count": null,
      "outputs": []
    },
    {
      "cell_type": "markdown",
      "source": [
        "**Explicação**: Cria um dicionário onde as chaves são os números de 1 a 5 e os valores são seus respectivos quadrados.\n",
        "\n",
        "####**Exemplo de Compreensões com filtros (condicionais):**\n"
      ],
      "metadata": {
        "id": "WJIAtsDLrxaX"
      }
    },
    {
      "cell_type": "code",
      "source": [
        "pares = [x for x in range(1, 11) if x % 2 == 0]\n",
        "print(pares)  # Saída: [2, 4, 6, 8, 10]"
      ],
      "metadata": {
        "colab": {
          "base_uri": "https://localhost:8080/"
        },
        "id": "Zq-idfsZr858",
        "outputId": "99a0574c-cea5-409c-dabd-6e949839b740"
      },
      "execution_count": 3,
      "outputs": [
        {
          "output_type": "stream",
          "name": "stdout",
          "text": [
            "[2, 4, 6, 8, 10]\n"
          ]
        }
      ]
    },
    {
      "cell_type": "markdown",
      "source": [
        "**Explicação**: A condição `if x % 2 == 0` filtra apenas os números pares.\n",
        "\n",
        "###**Iteradores e Geradores: Eficiência na Manipulação de Sequências**\n",
        "\n",
        "Iteradores e geradores são ferramentas poderosas para trabalhar com sequências de dados de forma eficiente.\n",
        "\n",
        "####**Exemplo de Iteradores:**\n",
        "\n"
      ],
      "metadata": {
        "id": "-ahWBy_wsDN5"
      }
    },
    {
      "cell_type": "code",
      "source": [
        "numeros = [1, 2, 3]\n",
        "iterador = iter(numeros)\n",
        "print(next(iterador))  # Saída: 1\n",
        "print(next(iterador))  # Saída: 2\n",
        "print(next(iterador))  # Saída: 3"
      ],
      "metadata": {
        "colab": {
          "base_uri": "https://localhost:8080/"
        },
        "id": "Q3GmGk8fsbmB",
        "outputId": "91c8c224-8782-46f3-9b3f-d108ecc92aa9"
      },
      "execution_count": 4,
      "outputs": [
        {
          "output_type": "stream",
          "name": "stdout",
          "text": [
            "1\n",
            "2\n",
            "3\n"
          ]
        }
      ]
    },
    {
      "cell_type": "markdown",
      "source": [
        "**Explicação**: Iteradores permitem percorrer elementos de uma sequência um de cada vez. A função `iter() `cria um iterador, e a função `next()` retorna o próximo elemento.\n",
        "\n",
        "####**Exemplo de Geradores:**"
      ],
      "metadata": {
        "id": "YZN0RmDksomz"
      }
    },
    {
      "cell_type": "code",
      "source": [
        "def numeros_pares(limite):\n",
        "    num = 0\n",
        "    while num < limite:\n",
        "        yield num\n",
        "        num += 2\n",
        "\n",
        "for num in numeros_pares(10):\n",
        "    print(num)  # Saída: 0 2 4 6 8"
      ],
      "metadata": {
        "colab": {
          "base_uri": "https://localhost:8080/"
        },
        "id": "2hx0GU3Ts-QT",
        "outputId": "2d777da9-a29a-4836-8899-8cd4a76f0528"
      },
      "execution_count": 5,
      "outputs": [
        {
          "output_type": "stream",
          "name": "stdout",
          "text": [
            "0\n",
            "2\n",
            "4\n",
            "6\n",
            "8\n"
          ]
        }
      ]
    },
    {
      "cell_type": "markdown",
      "source": [
        "**Explicação**: Geradores são funções que usam a palavra-chave `yield` para retornar um valor e pausar a execução. Na próxima chamada, a execução continua de onde parou. Isso economiza memória, pois os valores são gerados sob demanda.\n",
        "\n",
        "\n",
        "####**Expressões Lambda: Funções Anônimas para Tarefas Rápidas**\n",
        "\n",
        "Expressões lambda são funções anônimas (sem nome) que podem ser definidas em uma única linha."
      ],
      "metadata": {
        "id": "9gxAPN0ItLvK"
      }
    },
    {
      "cell_type": "code",
      "source": [
        "dobro = lambda x: x * 2\n",
        "print(dobro(5))  # Saída: 10"
      ],
      "metadata": {
        "colab": {
          "base_uri": "https://localhost:8080/"
        },
        "id": "_m6QEjfVtyiJ",
        "outputId": "9d04a84b-c53a-4e3a-c414-a74f34e32fb1"
      },
      "execution_count": 6,
      "outputs": [
        {
          "output_type": "stream",
          "name": "stdout",
          "text": [
            "10\n"
          ]
        }
      ]
    },
    {
      "cell_type": "markdown",
      "source": [
        "**Explicação**: A expressão lambda `lambda x: x * 2` define uma função que recebe um argumento x e retorna o dobro de `x`.\n",
        "\n",
        "\n",
        "####**Decoradores: Modificando o Comportamento de Funções**\n",
        "\n",
        "Decoradores são funções que modificam o comportamento de outras funções."
      ],
      "metadata": {
        "id": "UfQr_zpAt6wV"
      }
    },
    {
      "cell_type": "code",
      "source": [
        "def meu_decorador(func):\n",
        "    def wrapper():\n",
        "        print(\"Antes da função\")\n",
        "        func()\n",
        "        print(\"Depois da função\")\n",
        "    return wrapper\n",
        "\n",
        "@meu_decorador\n",
        "def diga_ola():\n",
        "    print(\"Olá!\")\n",
        "\n",
        "diga_ola()  # Saída: Antes da função\\nOlá!\\nDepois da função"
      ],
      "metadata": {
        "colab": {
          "base_uri": "https://localhost:8080/"
        },
        "id": "vmfegJ10uSyy",
        "outputId": "ce173c3d-8411-4e0a-c82b-e32d75618c49"
      },
      "execution_count": 7,
      "outputs": [
        {
          "output_type": "stream",
          "name": "stdout",
          "text": [
            "Antes da função\n",
            "Olá!\n",
            "Depois da função\n"
          ]
        }
      ]
    },
    {
      "cell_type": "markdown",
      "source": [
        "**Explicação**: O decorador meu_decorador adiciona código antes e depois da função `diga_ola`. O símbolo `@` é um açúcar sintático para aplicar o decorador.\n",
        "\n",
        "**Desafio do Capítulo 1**:\n",
        "\n",
        "**Criando um Gerador de Senhas Fortes com Decoradores**\n",
        "\n",
        "Seu desafio é criar um gerador de senhas fortes que utilize os conceitos aprendidos neste capítulo:\n",
        "\n",
        "1. **Função geradora**: Crie uma função `gerar_senha(comprimento)` que gere uma senha aleatória com o comprimento especificado. A senha deve conter letras maiúsculas e minúsculas, números e símbolos.\n",
        "\n",
        "2. **Compreensão de lista**: Use uma compreensão de lista para combinar caracteres aleatórios de diferentes conjuntos (letras, números, símbolos).\n",
        "\n",
        "3. **Gerador**: Transforme a função `gerar_senha` em um gerador que produza senhas sob demanda, em vez de retornar uma lista completa de senhas.\n",
        "\n",
        "4. **Decorador**: Crie um decorador verificar_forca que verifique a força da senha gerada. A senha deve atender aos seguintes critérios:\n",
        "\n",
        "  * Pelo menos 8 caracteres.\n",
        "  * Pelo menos uma letra maiúscula.\n",
        "  * Pelo menos uma letra minúscula.\n",
        "  * Pelo menos um número.\n",
        "  * Pelo menos um símbolo.\n",
        "\n",
        "5. **Aplicação**: Use o gerador de senhas com o decorador para gerar e exibir senhas fortes.\n",
        "\n",
        "\n",
        "**Exemplo de uso:**\n",
        "\n",
        "```python\n",
        "for senha in gerar_senha(12):\n",
        "    print(senha)  # Exibe senhas fortes de 12 caracteres\n",
        "```\n",
        "\n",
        "**Dicas**:\n",
        "\n",
        "* Use o módulo `random` para gerar caracteres aleatórios.\n",
        "* Use o módulo `string` para acessar conjuntos de caracteres (letras, dígitos, pontuação).\n",
        "* Use expressões regulares (módulo `re`) no decorador para verificar a força da senha.\n",
        "\n",
        "Este desafio testará seus conhecimentos sobre funções, compreensões de lista, geradores e decoradores, além de exigir criatividade na implementação da lógica de geração e verificação de senhas.\n"
      ],
      "metadata": {
        "id": "3t-g5nV6ugof"
      }
    },
    {
      "cell_type": "markdown",
      "source": [
        "## Capítulo 2: Classes e Objetos: A Essência da Programação Orientada a Objetos em Python\n",
        "\n",
        "A Programação Orientada a Objetos (POO) é um paradigma poderoso que permite modelar o mundo real em seus programas. Em Python, as classes e objetos são os pilares da POO, fornecendo uma maneira estruturada de organizar dados e comportamentos relacionados.\n",
        "\n",
        "###**Classes: Modelos para Objetos**\n",
        "\n",
        "Uma classe é como um modelo ou um projeto para criar objetos. Ela define as características (atributos) e os comportamentos (métodos) que os objetos daquela classe terão."
      ],
      "metadata": {
        "id": "49fBQtSvxmgw"
      }
    },
    {
      "cell_type": "code",
      "source": [
        "class Cachorro:\n",
        "    \"\"\"Uma classe que representa um cachorro.\"\"\"\n",
        "\n",
        "    def __init__(self, nome, raça, idade):\n",
        "        \"\"\"Inicializa os atributos do cachorro.\"\"\"\n",
        "        self.nome = nome\n",
        "        self.raça = raça\n",
        "        self.idade = idade\n",
        "\n",
        "    def latir(self):\n",
        "        \"\"\"Faz o cachorro latir.\"\"\"\n",
        "        print(f\"{self.nome} está latindo!\")\n",
        "\n",
        "\n"
      ],
      "metadata": {
        "colab": {
          "base_uri": "https://localhost:8080/"
        },
        "id": "P9gjudohx0sO",
        "outputId": "eb85031a-dc54-462a-92f3-fb81e9599f0a"
      },
      "execution_count": 13,
      "outputs": [
        {
          "output_type": "stream",
          "name": "stdout",
          "text": [
            "Apolo\n",
            "Pitbull\n",
            "1\n",
            "Apolo está latindo!\n"
          ]
        }
      ]
    },
    {
      "cell_type": "markdown",
      "source": [
        "**Explicação**:\n",
        "\n",
        "* A classe `Cachorro` define os atributos nome, raca e idade, que armazenam informações sobre o cachorro.\n",
        "* O método `__init__` é um construtor especial que é chamado quando um novo objeto da classe é criado. Ele inicializa os atributos do objeto com os valores fornecidos.\n",
        "* O método `latir` define um comportamento do cachorro: latir.\n",
        "\n",
        "\n",
        "####**Objetos: Instâncias de Classes**\n",
        "\n",
        "Um **objeto** é uma instância de uma classe. É como um \"exemplar\" real do modelo definido pela classe."
      ],
      "metadata": {
        "id": "UuMnjai_yhKT"
      }
    },
    {
      "cell_type": "code",
      "source": [
        "# Criar um objeto da classe Cachorro\n",
        "cachorro1 = Cachorro(\"Apolo\", \"Pitbull\", 1)\n",
        "\n",
        "# Chamar o método latir()\n",
        "cachorro1.latir()  # Saída: Rex está latindo!"
      ],
      "metadata": {
        "colab": {
          "base_uri": "https://localhost:8080/"
        },
        "id": "DCm39V2SzKzd",
        "outputId": "733beb47-36e1-4f37-dbb0-2e3e162460a8"
      },
      "execution_count": 14,
      "outputs": [
        {
          "output_type": "stream",
          "name": "stdout",
          "text": [
            "Apolo está latindo!\n"
          ]
        }
      ]
    },
    {
      "cell_type": "markdown",
      "source": [
        "**Explicação**:\n",
        "\n",
        "* Criamos um objeto `cachorro1` da classe Cachorro, passando os valores \"Apolo\", \"Pitbull\" e 1 para o construtor.\n",
        "* O objeto `cachorro1` tem seus próprios atributos nome, raca e idade, que foram inicializados pelo construtor.\n",
        "* Chamamos o método `latir` do objeto `cachorro1`, que faz o cachorro latir.\n",
        "\n",
        "####**Atributos: Características dos Objetos**\n",
        "\n",
        "Atributos são variáveis que armazenam dados dentro de um objeto. Eles representam as características do objeto."
      ],
      "metadata": {
        "id": "myvOYu2izdSz"
      }
    },
    {
      "cell_type": "code",
      "source": [
        "# Acessar os atributos do cachorro\n",
        "print(cachorro1.nome)  # Saída: Rex\n",
        "print(cachorro1.raça)  # Saída: Golden Retriever\n",
        "print(cachorro1.idade)  # Saída: 3"
      ],
      "metadata": {
        "colab": {
          "base_uri": "https://localhost:8080/"
        },
        "id": "sgYt-ysU0Kz7",
        "outputId": "3265fd9a-843a-47ea-c322-548e05bab48c"
      },
      "execution_count": 15,
      "outputs": [
        {
          "output_type": "stream",
          "name": "stdout",
          "text": [
            "Apolo\n",
            "Pitbull\n",
            "1\n"
          ]
        }
      ]
    },
    {
      "cell_type": "markdown",
      "source": [
        "**Explicação**:\n",
        "\n",
        "Acessamos os atributos do objeto `cachorro1` usando a notação de ponto (`.`).\n",
        "\n",
        "####**Métodos: Comportamentos dos Objetos**\n",
        "\n",
        "Métodos são funções definidas dentro de uma classe que operam sobre os atributos do objeto. Eles representam os comportamentos do objeto."
      ],
      "metadata": {
        "id": "yXtUPRan0OYR"
      }
    },
    {
      "cell_type": "code",
      "source": [
        "class Cachorro:\n",
        "    \"\"\"Uma classe que representa um cachorro.\"\"\"\n",
        "\n",
        "    def __init__(self, nome, raça, idade):\n",
        "        \"\"\"Inicializa os atributos do cachorro.\"\"\"\n",
        "        self.nome = nome\n",
        "        self.raça = raça\n",
        "        self.idade = idade\n",
        "\n",
        "    def latir(self):\n",
        "        \"\"\"Faz o cachorro latir.\"\"\"\n",
        "        print(f\"{self.nome} está latindo!\")\n",
        "\n",
        "    def fazer_aniversario(self):\n",
        "        \"\"\"Aumenta a idade do cachorro em 1 ano.\"\"\"\n",
        "        self.idade += 1\n",
        "\n",
        "cachorro1 = Cachorro(\"Apolo\", \"Pitbull\", 1)\n",
        "cachorro1.fazer_aniversario()\n",
        "print(f\"Meu cachorro {cachorro1.nome} fez {cachorro1.idade} Anos, Parabens!!\")  # Saída: 4"
      ],
      "metadata": {
        "colab": {
          "base_uri": "https://localhost:8080/"
        },
        "id": "BdFhVK2O0lzI",
        "outputId": "4819578b-260d-4b85-d73b-4464c60cf6dd"
      },
      "execution_count": 25,
      "outputs": [
        {
          "output_type": "stream",
          "name": "stdout",
          "text": [
            "Meu cachorro Apolo fez 2 Anos, Parabens!!\n"
          ]
        }
      ]
    },
    {
      "cell_type": "markdown",
      "source": [
        "**Explicação**:\n",
        "\n",
        "O método `fazer_aniversario` modifica o atributo idade do objeto, simulando o aniversário do cachorro.\n",
        "\n",
        "####**Herança: Reutilização de Código e Hierarquia de Classes**\n",
        "\n",
        "A herança permite que você crie novas classes (subclasses) que herdam atributos e métodos de classes existentes (superclasses). Isso promove a reutilização de código e a criação de hierarquias de classes."
      ],
      "metadata": {
        "id": "3jhnxSxH179a"
      }
    },
    {
      "cell_type": "code",
      "source": [
        "class PastorAlemao(Cachorro): # Classe herdada da Classe Chachoro\n",
        "    \"\"\"Uma subclasse de Cachorro que representa um pastor alemão.\"\"\"\n",
        "\n",
        "    def __init__(self, nome, idade):\n",
        "        \"\"\"Inicializa os atributos do pastor alemão.\"\"\"\n",
        "        super().__init__(nome, \"Pastor Alemão\", idade)\n",
        "\n",
        "    def farejar(self):\n",
        "        \"\"\"Faz o pastor alemão farejar.\"\"\"\n",
        "        print(f\"{self.nome} está farejando!\")\n",
        "\n",
        "meu_pastor = PastorAlemao(\"Max\", 2)\n",
        "meu_pastor.latir()    # Saída: Max está latindo! (herdado de Cachorro)\n",
        "meu_pastor.farejar()  # Saída: Max está farejando!"
      ],
      "metadata": {
        "colab": {
          "base_uri": "https://localhost:8080/"
        },
        "id": "FUJE8CT_2VZM",
        "outputId": "5aece4ea-a380-45bf-e596-a34aee3cc786"
      },
      "execution_count": 29,
      "outputs": [
        {
          "output_type": "stream",
          "name": "stdout",
          "text": [
            "Max está latindo!\n",
            "Max está farejando!\n"
          ]
        }
      ]
    },
    {
      "cell_type": "markdown",
      "source": [
        "**Explicação**:\n",
        "\n",
        "* A classe `PastorAlemao` herda da classe Cachorro.\n",
        "* O construtor da subclasse chama o construtor da superclasse usando `super().__init__.`\n",
        "* A subclasse adiciona um novo método `farejar`.\n",
        "\n",
        "####**Polimorfismo: \"Muitas Formas\"**\n",
        "\n",
        "O polimorfismo permite que objetos de diferentes classes respondam ao mesmo método de maneiras diferentes.\n",
        "\n",
        "\n"
      ],
      "metadata": {
        "id": "-7yCfVFi2Dpq"
      }
    },
    {
      "cell_type": "code",
      "source": [
        "class Cachorro:\n",
        "    \"\"\"Uma classe que representa um cachorro.\"\"\"\n",
        "\n",
        "    def __init__(self, nome, raça, idade):\n",
        "        \"\"\"Inicializa os atributos do cachorro.\"\"\"\n",
        "        self.nome = nome\n",
        "        self.raça = raça\n",
        "        self.idade = idade\n",
        "\n",
        "    def latir(self):\n",
        "        \"\"\"Faz o cachorro latir.\"\"\"\n",
        "        print(f\"{self.nome} está latindo!\")\n",
        "\n",
        "    def fazer_aniversario(self):\n",
        "        \"\"\"Aumenta a idade do cachorro em 1 ano.\"\"\"\n",
        "        self.idade += 1\n",
        "\n",
        "    def emitir_som(self): # Add method to Cachorro class\n",
        "        \"\"\"O som que o cachorro emite.\"\"\"\n",
        "        print(f\"{self.nome} está latindo!\")\n",
        "\n",
        "class PastorAlemao(Cachorro): # Classe herdada da Classe Chachoro\n",
        "    \"\"\"Uma subclasse de Cachorro que representa um pastor alemão.\"\"\"\n",
        "\n",
        "    def __init__(self, nome, idade):\n",
        "        \"\"\"Inicializa os atributos do pastor alemão.\"\"\"\n",
        "        super().__init__(nome, \"Pastor Alemão\", idade)\n",
        "\n",
        "    def farejar(self):\n",
        "        \"\"\"Faz o pastor alemão farejar.\"\"\"\n",
        "        print(f\"{self.nome} está farejando!\")\n",
        "\n",
        "class Gato:\n",
        "    def __init__(self, nome):\n",
        "        self.nome = nome\n",
        "\n",
        "    def emitir_som(self):\n",
        "        print(f\"{self.nome} está miando!\")\n",
        "\n",
        "cachorro1 = Cachorro(\"Apolo\", \"Golden Retriever\", 3)\n",
        "meu_pastor = PastorAlemao(\"Max\", 2)\n",
        "meu_gato = Gato(\"Mia\")\n",
        "\n",
        "for animal in [cachorro1, meu_pastor, meu_gato]:\n",
        "    animal.emitir_som() # Now all classes have the method 'emitir_som'\n"
      ],
      "metadata": {
        "colab": {
          "base_uri": "https://localhost:8080/"
        },
        "collapsed": true,
        "id": "2cgHpNra3wgJ",
        "outputId": "c74afe0c-53e6-44bd-d6c6-df166d293e33"
      },
      "execution_count": 35,
      "outputs": [
        {
          "output_type": "stream",
          "name": "stdout",
          "text": [
            "Apolo está latindo!\n",
            "Max está latindo!\n",
            "Mia está miando!\n"
          ]
        }
      ]
    },
    {
      "cell_type": "markdown",
      "source": [
        "**Explicação:**\n",
        "\n",
        "* As classes `Cachorro`, `PastorAlemao` e `Gato` têm um método emitir_som.\n",
        "* O loop percorre uma lista de animais e chama o método `emitir_som` para cada um, produzindo diferentes sons.\n",
        "\n",
        "\n",
        "####**Encapsulamento e Abstração: Protegendo Dados e Simplificando a Interface**\n",
        "\n",
        "O encapsulamento protege os dados de um objeto, permitindo que sejam acessados e modificados apenas por meio dos métodos da classe. A abstração simplifica a interface do objeto, ocultando detalhes de implementação."
      ],
      "metadata": {
        "id": "_RIdkDxX5YuC"
      }
    },
    {
      "cell_type": "code",
      "source": [
        "class ContaBancaria:\n",
        "    def __init__(self, saldo_inicial):\n",
        "        self._saldo = saldo_inicial  # Atributo privado (convenção com \"_\")\n",
        "\n",
        "    def depositar(self, valor):\n",
        "        self._saldo += valor\n",
        "\n",
        "    def sacar(self, valor):\n",
        "        if valor <= self._saldo:\n",
        "            self._saldo -= valor\n",
        "        else:\n",
        "            print(\"Saldo insuficiente!\")\n",
        "\n",
        "    def consultar_saldo(self):\n",
        "        return self._saldo"
      ],
      "metadata": {
        "id": "OT5Mks1a5yvP"
      },
      "execution_count": null,
      "outputs": []
    },
    {
      "cell_type": "markdown",
      "source": [
        "**Explicação**:\n",
        "\n",
        "* O atributo `_saldo` é privado (convenção com \"_\"), indicando que não deve ser acessado diretamente de fora da classe.\n",
        "* Os métodos `depositar`, `sacar` e `consultar_saldo` fornecem uma interface para interagir com o saldo da conta de forma segura e controlada."
      ],
      "metadata": {
        "id": "Z1U1pdzw5-DT"
      }
    }
  ]
}